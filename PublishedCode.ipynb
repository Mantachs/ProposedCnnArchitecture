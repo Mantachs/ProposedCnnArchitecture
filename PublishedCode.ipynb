{
  "nbformat": 4,
  "nbformat_minor": 0,
  "metadata": {
    "colab": {
      "name": "PublishedCode.ipynb",
      "provenance": [],
      "collapsed_sections": []
    },
    "kernelspec": {
      "name": "python3",
      "display_name": "Python 3"
    },
    "language_info": {
      "name": "python"
    }
  },
  "cells": [
    {
      "cell_type": "markdown",
      "metadata": {
        "id": "613F3KpHGPM3"
      },
      "source": [
        "The code present here represent the architecutre that was proposed in the following paper:\n",
        "Mantach S, Ashraf A, Janani H, Kordi B. A Convolutional Neural Network-Based Model for Multi-Source and Single-Source Partial Discharge Pattern Classification Using Only Single-Source Training Set. Energies. 2021 Jan;14(5):1355.\n",
        "\n",
        "The  main  contribution  of  this project  includes  classifying  multi-source  PDs  andsingle-source  PDs  without  introducing  multi-source  PDs  in  the  training  stage.   The motivation of this work is that collecting multi-source PDs is difficult, expensive, time consuming , and not practical in regards to the combinational nature of the PDs.  The deep learning algorithm investigated here is two dimensional convolutional neural network.  The proposed architecture is different than traditional CNN architectures, where it consists of two parts: the convolutional layers which take care of learning generalized features of all the classes, and the fully connected layers which take care of learning the fine-tuned specific features of each class.  Extensive validation of the proposed neural network architecture has been conducted by evaluating the generalization in performance as we move from training data (i.e.  single source) to unseen testing data whichis multi-source. \n"
      ]
    },
    {
      "cell_type": "markdown",
      "metadata": {
        "id": "gEvTUetgHfyM"
      },
      "source": [
        "As mentioned in the paper, the input to this network is a 100 by 100 matrix representing the PRPD pattern for a given data point. \n",
        "Background noise in PRPDs is reflected by having an offset charge over all the phase windows.  In this work, it has been removed for all the PRPD patterns.\n",
        "An additional no-pattern class corresponding to the cases not involving the presence of any PD is added.  \n",
        "In order to encourage the model to learn features related to the shape of PRPDs, the samples were converted into binary samples, where zero threshold is considered for binarization.\n"
      ]
    },
    {
      "cell_type": "code",
      "metadata": {
        "id": "1xyVJqxEGRae"
      },
      "source": [
        "shuffle=False\n",
        "\n",
        "input1 = keras.Input(shape=(100,100, 1))\n",
        "x = BatchNormalization(       )( input1 )\n",
        "x = layers.Conv2D(36,3, padding=\"same\", kernel_initializer = 'he_normal')(x)\n",
        "x=MaxPooling2D(2)(x)\n",
        "x = BatchNormalization(       )( x )\n",
        "x =         Activation('relu' )( x )\n",
        "\n",
        "x = layers.Conv2D(36,3, padding=\"same\", kernel_initializer = 'he_normal')(x)\n",
        "x=MaxPooling2D(2)(x)\n",
        "x = BatchNormalization(       )( x )\n",
        "x =         Activation('relu' )( x )\n",
        "\n",
        "x = layers.Flatten()  (x)\n",
        "x = layers.Dense(128, kernel_initializer = 'he_normal')(x)\n",
        "x = BatchNormalization(       )( x )\n",
        "x =         Activation('relu' )( x )\n",
        "\n",
        "x = layers.Dense(64, kernel_initializer = 'he_normal')(x)\n",
        "x = BatchNormalization(       )( x )\n",
        "x =         Activation('relu' )( x )\n",
        "\n",
        "x = layers.Dense(7, kernel_initializer = 'he_normal')(x)\n",
        "outputs =         Activation('sigmoid' )( x )\n",
        "model  = keras.Model(  inputs  = [input1] , outputs = [ outputs[:,0], outputs[:,1],outputs[:,2],outputs[:,3],outputs[:,4],outputs[:,5],outputs[:,6]])\n",
        "bc = \"binary_crossentropy\"\n",
        "opt = tf.keras.optimizers.Adam(lr=0.0001, decay=1e-4)\n",
        "model.compile(optimizer= opt , loss = [bc,bc,bc,bc,bc,bc,bc], loss_weights = [120/250,120/290,120/130, 120/182, 120/120,120/350,120/200] )\n",
        "model.summary()\n",
        "history= model.fit(X, [trainy[:,0],trainy[:,1],trainy[:,2],trainy[:,3],trainy[:,4],trainy[:,5],trainy[:,6]] , \n",
        "                   batch_size=len(trainy),epochs=4000 , validation_split=0.1,shuffle=False)"
      ],
      "execution_count": null,
      "outputs": []
    }
  ]
}